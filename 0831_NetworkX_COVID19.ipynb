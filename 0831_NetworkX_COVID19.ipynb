{
  "cells": [
    {
      "cell_type": "markdown",
      "metadata": {
        "id": "view-in-github",
        "colab_type": "text"
      },
      "source": [
        "<a href=\"https://colab.research.google.com/github/yeahginny/Data-Analysis-School/blob/main/0831_NetworkX_COVID19.ipynb\" target=\"_parent\"><img src=\"https://colab.research.google.com/assets/colab-badge.svg\" alt=\"Open In Colab\"/></a>"
      ]
    },
    {
      "cell_type": "markdown",
      "metadata": {
        "id": "rIWBdGt_FaSq"
      },
      "source": [
        "# 1. The Lists of Data Table\n",
        "### 1) Case Data\n",
        "- **Case**: Data of COVID-19 infection cases in South Korea\n",
        "\n",
        "### 2) Patient Data\n",
        "- **PatientInfo**: Epidemiological data of COVID-19 patients in South Korea\n",
        "- **PatientRoute**: Route data of COVID-19 patients in South Korea (currently unavailable)\n",
        "\n",
        "### 3) Time Series Data\n",
        "- **Time**: Time series data of COVID-19 status in South Korea\n",
        "- **TimeAge**: Time series data of COVID-19 status in terms of the age in South Korea\n",
        "- **TimeGender**: Time series data of COVID-19 status in terms of gender in South Korea\n",
        "- **TimeProvince**: Time series data of COVID-19 status in terms of the Province in South Korea\n",
        "\n",
        "### 4) Additional Data\n",
        "- **Region**: Location and statistical data of the regions in South Korea\n",
        "- **Weather**: Data of the weather in the regions of South Korea\n",
        "- **SearchTrend**: Trend data of the keywords searched in NAVER which is one of the largest portals in South Korea\n",
        "- **SeoulFloating**: Data of floating population in Seoul, South Korea (from SK Telecom Big Data Hub)\n",
        "- **Policy**: Data of the government policy for COVID-19 in South Korea"
      ]
    },
    {
      "cell_type": "markdown",
      "metadata": {
        "id": "4L836UtVFaSr"
      },
      "source": [
        "# 2. The Structure of our Dataset\n",
        "- What color means is that they have similar properties.\n",
        "- If a line is connected between columns, it means that the values of the columns are partially shared.\n",
        "- The dotted lines mean weak relevance.\n",
        "![db_0701](https://user-images.githubusercontent.com/50820635/86225695-8dca0580-bbc5-11ea-9e9b-b0ca33414d8a.PNG)"
      ]
    },
    {
      "cell_type": "markdown",
      "metadata": {
        "id": "QOLk6ud8FaSr"
      },
      "source": [
        "# 3. The Detailed Description of each Data Table"
      ]
    },
    {
      "cell_type": "code",
      "source": [],
      "metadata": {
        "id": "Z_ugiaD-R3vw"
      },
      "execution_count": null,
      "outputs": []
    },
    {
      "cell_type": "code",
      "execution_count": null,
      "metadata": {
        "_cell_guid": "b1076dfc-b9ad-4769-8c92-a6c4dae69d19",
        "_uuid": "8f2839f25d086af736a60e9eeb907d3b93b6e0e5",
        "id": "Mhjt-BO-FaSr"
      },
      "outputs": [],
      "source": [
        "# This Python 3 environment comes with many helpful analytics libraries installed\n",
        "# It is defined by the kaggle/python docker image: https://github.com/kaggle/docker-python\n",
        "# For example, here's several helpful packages to load in\n",
        "\n",
        "import numpy as np # linear algebra\n",
        "import pandas as pd # data processing, CSV file I/O (e.g. pd.read_csv)\n",
        "\n",
        "# Input data files are available in the \"../input/\" directory.\n",
        "# For example, running this (by clicking run or pressing Shift+Enter) will list all files under the input directory\n",
        "\n",
        "import os\n",
        "for dirname, _, filenames in os.walk('/kaggle/input'):\n",
        "    for filename in filenames:\n",
        "        print(os.path.join(dirname, filename))\n",
        "\n",
        "# Any results you write to the current directory are saved as output."
      ]
    },
    {
      "cell_type": "code",
      "execution_count": null,
      "metadata": {
        "id": "YTagJvW8FaSs"
      },
      "outputs": [],
      "source": [
        "path = '/content/'\n",
        "\n",
        "case = patinfo = pd.read_csv(path+'Case.csv')\n",
        "patinfo = pd.read_csv(path+'PatientInfo.csv')\n",
        "#p_route = pd.read_csv(path+'PatientRoute.csv')\n",
        "time = pd.read_csv(path+'Time.csv')\n",
        "t_age = pd.read_csv(path+'TimeAge.csv')\n",
        "t_gender = pd.read_csv(path+'TimeGender.csv')\n",
        "t_provin = pd.read_csv(path+'TimeProvince.csv')\n",
        "region = pd.read_csv(path+'Region.csv')\n",
        "weather = pd.read_csv(path+'Weather.csv')\n",
        "search = pd.read_csv(path+'SearchTrend.csv')\n",
        "floating = pd.read_csv(path+'SeoulFloating.csv')\n",
        "policy = pd.read_csv(path+'Policy.csv')"
      ]
    },
    {
      "cell_type": "markdown",
      "metadata": {
        "id": "XRNSZ8hcFaSs"
      },
      "source": [
        "##### Before the Start..\n",
        "- We make a structured dataset based on the report materials of KCDC and local governments.\n",
        "- In Korea, we use the terms named '-do', '-si', '-gun' and '-gu',\n",
        "- The meaning of them are explained below.\n",
        "\n",
        "***\n",
        "\n",
        "\n",
        "### Levels of administrative divisions in South Korea\n",
        "#### Upper Level (Provincial-level divisions)\n",
        "- **Special City**:\n",
        "*Seoul*\n",
        "- **Metropolitan City**:\n",
        "*Busan / Daegu / Daejeon / Gwangju / Incheon / Ulsan*\n",
        "- **Province(-do)**:\n",
        "*Gyeonggi-do / Gangwon-do / Chungcheongbuk-do / Chungcheongnam-do / Jeollabuk-do / Jeollanam-do / Gyeongsangbuk-do / Gyeongsangnam-do*\n",
        "\n",
        "#### Lower Level (Municipal-level divisions)\n",
        "- **City(-si)**\n",
        "[List of cities in South Korea](https://en.wikipedia.org/wiki/List_of_cities_in_South_Korea)\n",
        "- **Country(-gun)**\n",
        "[List of counties of South Korea](https://en.wikipedia.org/wiki/List_of_counties_of_South_Korea)\n",
        "- **District(-gu)**\n",
        "[List of districts in South Korea](https://en.wikipedia.org/wiki/List_of_districts_in_South_Korea)\n",
        "\n",
        "***\n",
        "\n",
        "<img src=\"https://www.googleapis.com/download/storage/v1/b/kaggle-user-content/o/inbox%2F2815958%2F1c50702025f44b0c1ce92460bd2ea3f9%2Fus_hi_30-1.jpg?generation=1582819435038273&amp;alt=media\">\n",
        "\n",
        "***\n",
        "\n",
        "Sources\n",
        "- http://nationalatlas.ngii.go.kr/pages/page_1266.php\n",
        "- https://en.wikipedia.org/wiki/Administrative_divisions_of_South_Korea"
      ]
    },
    {
      "cell_type": "markdown",
      "metadata": {
        "id": "-Shn8Pi0FaSs"
      },
      "source": [
        "### 1) Case\n",
        "#### Data of COVID-19 infection cases in South Korea\n",
        "1. case_id: the ID of the infection case\n",
        "  > - case_id(7) = region_code(5) + case_number(2)  \n",
        "  > - You can check the region_code in 'Region.csv'\n",
        "- province: Special City / Metropolitan City / Province(-do)\n",
        "- city: City(-si) / Country (-gun) / District (-gu)\n",
        "  > - The value 'from other city' means that where the group infection started is other city.\n",
        "- group: TRUE: group infection / FALSE: not group\n",
        "  > - If the value is 'TRUE' in this column, the value of 'infection_cases' means the name of group.  \n",
        "  > - The values named 'contact with patient', 'overseas inflow' and 'etc' are not group infection.\n",
        "- infection_case: the infection case (the name of group or other cases)\n",
        "  > - The value 'overseas inflow' means that the infection is from other country.  \n",
        "  > - The value 'etc' includes individual cases, cases where relevance classification is ongoing after investigation, and cases under investigation.\n",
        "- confirmed: the accumulated number of the confirmed\n",
        "- latitude: the latitude of the group (WGS84)\n",
        "- longitude: the longitude of the group (WGS84)\n"
      ]
    },
    {
      "cell_type": "code",
      "execution_count": null,
      "metadata": {
        "id": "q0a2kNlzFaSt"
      },
      "outputs": [],
      "source": [
        "case.head()"
      ]
    },
    {
      "cell_type": "markdown",
      "metadata": {
        "id": "qAJ8V1PeFaSt"
      },
      "source": [
        "### 2) PatientInfo\n",
        "#### Epidemiological data of COVID-19 patients in South Korea\n",
        "1. patient_id: the ID of the patient\n",
        "  > - patient_id(10) = region_code(5) + patient_number(5)\n",
        "  > - You can check the region_code in 'Region.csv'\n",
        "  > - There are two types of the patient_number  \n",
        "      1) local_num: The number given by the local government.  \n",
        "      2) global_num: The number given by the KCDC  \n",
        "- sex: the sex of the patient\n",
        "- age: the age of the patient\n",
        "  > - 0s: 0 ~ 9  \n",
        "  > - 10s: 10 ~ 19  \n",
        "  ...  \n",
        "  > - 90s: 90 ~ 99  \n",
        "  > - 100s: 100 ~ 109\n",
        "- country: the country of the patient\n",
        "- province: the province of the patient\n",
        "- city: the city of the patient\n",
        "- infection_case: the case of infection\n",
        "- infected_by: the ID of who infected the patient\n",
        "  > - This column refers to the  'patient_id' column.\n",
        "- contact_number: the number of contacts with people\n",
        "- symptom_onset_date: the date of symptom onset\n",
        "- confirmed_date: the date of being confirmed\n",
        "- released_date: the date of being released\n",
        "- deceased_date: the date of being deceased\n",
        "- state: isolated / released / deceased\n",
        "  > - isolated: being isolated in the hospital\n",
        "  > - released: being released from the hospital\n",
        "  > - deceased: being deceased"
      ]
    },
    {
      "cell_type": "code",
      "execution_count": null,
      "metadata": {
        "id": "RrxXOZdlFaSt"
      },
      "outputs": [],
      "source": [
        "patinfo.head()"
      ]
    },
    {
      "cell_type": "markdown",
      "metadata": {
        "id": "_Tt36qrZFaSt"
      },
      "source": [
        "### 3) PatientRoute\n",
        "#### Route data of COVID-19 patients in South Korea\n",
        "- patient_id: the ID of the patient\n",
        "- date: YYYY-MM-DD\n",
        "- province: Special City / Metropolitan City / Province(-do)\n",
        "- city: City(-si) / Country (-gun) / District (-gu)\n",
        "- latitude: the latitude of the visit (WGS84)\n",
        "- longitude: the longitude of the visit (WGS84)"
      ]
    },
    {
      "cell_type": "code",
      "execution_count": null,
      "metadata": {
        "id": "oLnVPRaeFaSt"
      },
      "outputs": [],
      "source": [
        "#p_route.head()"
      ]
    },
    {
      "cell_type": "markdown",
      "metadata": {
        "id": "c6KwgAh9FaSt"
      },
      "source": [
        "### 4) Time\n",
        "#### Time series data of COVID-19 status in South Korea\n",
        "- date: YYYY-MM-DD\n",
        "- time: Time (0 = AM 12:00 / 16 = PM 04:00)\n",
        "  > - The time for KCDC to open the information has been changed from PM 04:00 to AM 12:00 since March 2nd.\n",
        "- test: the accumulated number of tests\n",
        "  > - A test is a diagnosis of an infection.\n",
        "- negative: the accumulated number of negative results\n",
        "- confirmed: the accumulated number of positive results\n",
        "- released: the accumulated number of releases\n",
        "- deceased: the accumulated number of deceases"
      ]
    },
    {
      "cell_type": "code",
      "execution_count": null,
      "metadata": {
        "id": "VZL1ZFLgFaSt"
      },
      "outputs": [],
      "source": [
        "time.head()"
      ]
    },
    {
      "cell_type": "markdown",
      "metadata": {
        "id": "F2WPMTLAFaSt"
      },
      "source": [
        "### 5) TimeAge\n",
        "#### Time series data of COVID-19 status in terms of the age in South Korea\n",
        "- date: YYYY-MM-DD\n",
        "  > - The status in terms of the age has been presented since March 2nd.\n",
        "- time: Time\n",
        "- age: the age of patients\n",
        "- confirmed: the accumulated number of the confirmed\n",
        "- deceased: the accumulated number of the deceased"
      ]
    },
    {
      "cell_type": "code",
      "execution_count": null,
      "metadata": {
        "id": "czRGTnCLFaSt"
      },
      "outputs": [],
      "source": [
        "t_age.head()"
      ]
    },
    {
      "cell_type": "markdown",
      "metadata": {
        "id": "cUjpXSbyFaSu"
      },
      "source": [
        "### 6) TimeGender\n",
        "#### Time series data of COVID-19 status in terms of the gender in South Korea\n",
        "- date: YYYY-MM-DD\n",
        "  > - The status in terms of the gender has been presented since March 2nd.\n",
        "- time: Time\n",
        "- sex: the gender of patients\n",
        "- confirmed: the accumulated number of the confirmed\n",
        "- deceased: the accumulated number of the deceased"
      ]
    },
    {
      "cell_type": "code",
      "execution_count": null,
      "metadata": {
        "id": "vpjECOCNFaSu"
      },
      "outputs": [],
      "source": [
        "t_gender.head()"
      ]
    },
    {
      "cell_type": "markdown",
      "metadata": {
        "id": "okV0gAYhFaSu"
      },
      "source": [
        "### 7) TimeProvince\n",
        "#### Time series data of COVID-19 status in terms of the Province in South Korea\n",
        "- date: YYYY-MM-DD\n",
        "- time: Time\n",
        "- province: the province of South Korea\n",
        "- confirmed: the accumulated number of the confirmed in the province\n",
        "  > - The confirmed status in terms of the provinces has been presented since Feburary 21th.\n",
        "  > - The value before Feburary 21th can be different.\n",
        "- released: the accumulated number of the released in the province\n",
        "  > - The confirmed status in terms of the provinces has been presented since March 5th.\n",
        "  > - The value before March 5th can be different.\n",
        "- deceased: the accumulated number of the deceased in the province\n",
        "  > - The confirmed status in terms of the provinces has been presented since March 5th.\n",
        "  > - The value before March 5th can be different."
      ]
    },
    {
      "cell_type": "code",
      "execution_count": null,
      "metadata": {
        "id": "oOz5TXNmFaSu"
      },
      "outputs": [],
      "source": [
        "t_provin.head()"
      ]
    },
    {
      "cell_type": "markdown",
      "metadata": {
        "id": "n_eDs10KFaSu"
      },
      "source": [
        "### 8) Region\n",
        "#### Location and statistical data of the regions in South Korea\n",
        "- code: the code of the region\n",
        "- province: Special City / Metropolitan City / Province(-do)\n",
        "- city: City(-si) / Country (-gun) / District (-gu)\n",
        "- latitude: the latitude of the visit (WGS84)\n",
        "- longitude: the longitude of the visit (WGS84)\n",
        "- elementary_school_count: the number of elementary schools\n",
        "- kindergarten_count: the number of kindergartens\n",
        "- university_count: the number of universities\n",
        "- academy_ratio: the ratio of academies\n",
        "- elderly_population_ratio: the ratio of the elderly population\n",
        "- elderly_alone_ratio: the ratio of elderly households living alone\n",
        "- nursing_home_count: the number of nursing homes\n",
        "\n",
        "Source of the statistic: [KOSTAT (Statistics Korea)](http://kosis.kr/)"
      ]
    },
    {
      "cell_type": "code",
      "execution_count": null,
      "metadata": {
        "id": "KOSsmhIIFaSu"
      },
      "outputs": [],
      "source": [
        "region.head()"
      ]
    },
    {
      "cell_type": "markdown",
      "metadata": {
        "id": "IF13DjzyFaSu"
      },
      "source": [
        "### 9) Weather\n",
        "#### Data of the weather in the regions of South Korea\n",
        "- code: the code of the region\n",
        "- province: Special City / Metropolitan City / Province(-do)\n",
        "- date: YYYY-MM-DD\n",
        "- avg_temp: the average temperature\n",
        "- min_temp: the lowest temperature\n",
        "- max_temp: the highest temperature\n",
        "- precipitation: the daily precipitation\n",
        "- max_wind_speed: the maximum wind speed\n",
        "- most_wind_direction: the most frequent wind direction\n",
        "- avg_relative_humidity: the average relative humidity\n",
        "\n",
        "Source of the weather data: [KMA (Korea Meteorological Administration)](http://data.kma.go.kr)"
      ]
    },
    {
      "cell_type": "code",
      "execution_count": null,
      "metadata": {
        "id": "uPdMld4RFaSu"
      },
      "outputs": [],
      "source": [
        "weather.head()"
      ]
    },
    {
      "cell_type": "markdown",
      "metadata": {
        "id": "o4WUCL8GFaSu"
      },
      "source": [
        "### 10) SearchTrend\n",
        "#### Trend data of the keywords searched in NAVER which is one of the largest portal in South Korea\n",
        "- date: YYYY-MM-DD\n",
        "- cold: the search volume of 'cold' in Korean language\n",
        "  > - The unit means relative value by setting the highest search volume in the period to 100.\n",
        "- flu: the search volume of 'flu' in Korean language\n",
        "  > - Same as above.\n",
        "- pneumonia: the search volume of 'pneumonia' in Korean language\n",
        "  > - Same as above.\n",
        "- coronavirus: the search volume of 'coronavirus' in Korean language\n",
        "  > - Same as above.\n",
        "\n",
        "\n",
        "Source of the data: [NAVER DataLab](https://datalab.naver.com/)"
      ]
    },
    {
      "cell_type": "code",
      "execution_count": null,
      "metadata": {
        "id": "pwugbnKiFaSu"
      },
      "outputs": [],
      "source": [
        "search.head()"
      ]
    },
    {
      "cell_type": "markdown",
      "metadata": {
        "id": "7mIOhaa0FaSu"
      },
      "source": [
        "### 11) SeoulFloating\n",
        "#### Data of floating population in Seoul, South Korea (from SK Telecom Big Data Hub)\n",
        "\n",
        "- date: YYYY-MM-DD\n",
        "- hour: Hour\n",
        "- birth_year: the birth year of the floating population\n",
        "- sext: he sex of the floating population\n",
        "- province: Special City / Metropolitan City / Province(-do)\n",
        "- city: City(-si) / Country (-gun) / District (-gu)\n",
        "- fp_num: the number of floating population\n",
        "\n",
        "Source of the data: [SKT Big Data Hub](https://www.bigdatahub.co.kr)"
      ]
    },
    {
      "cell_type": "code",
      "execution_count": null,
      "metadata": {
        "id": "kz39WmY5FaSu"
      },
      "outputs": [],
      "source": [
        "floating.head()"
      ]
    },
    {
      "cell_type": "markdown",
      "metadata": {
        "id": "hkFPcsVIFaSu"
      },
      "source": [
        "### 12) Policy\n",
        "#### Data of the government policy for COVID-19 in South Korea\n",
        "\n",
        "- policy_id: the ID of the policy\n",
        "- country: the country that implemented the policy\n",
        "- type: the type of the policy\n",
        "- gov_policy: the policy of the government\n",
        "- detail: the detail of the policy\n",
        "- start_date: the start date of the policy\n",
        "- end_date: the end date of the policy"
      ]
    },
    {
      "cell_type": "code",
      "execution_count": null,
      "metadata": {
        "colab": {
          "base_uri": "https://localhost:8080/",
          "height": 217
        },
        "id": "CboUy8wRFaSu",
        "outputId": "b666dc7e-ee56-470b-cac6-69928ba7e3ab"
      },
      "outputs": [
        {
          "output_type": "error",
          "ename": "NameError",
          "evalue": "ignored",
          "traceback": [
            "\u001b[0;31m---------------------------------------------------------------------------\u001b[0m",
            "\u001b[0;31mNameError\u001b[0m                                 Traceback (most recent call last)",
            "\u001b[0;32m<ipython-input-8-dfc320ecbcf1>\u001b[0m in \u001b[0;36m<cell line: 1>\u001b[0;34m()\u001b[0m\n\u001b[0;32m----> 1\u001b[0;31m \u001b[0mpolicy\u001b[0m\u001b[0;34m.\u001b[0m\u001b[0mhead\u001b[0m\u001b[0;34m(\u001b[0m\u001b[0;34m)\u001b[0m\u001b[0;34m\u001b[0m\u001b[0;34m\u001b[0m\u001b[0m\n\u001b[0m",
            "\u001b[0;31mNameError\u001b[0m: name 'policy' is not defined"
          ]
        }
      ],
      "source": [
        "policy.head()"
      ]
    },
    {
      "cell_type": "code",
      "execution_count": null,
      "metadata": {
        "colab": {
          "base_uri": "https://localhost:8080/"
        },
        "id": "lj7-VJAMFaSv",
        "outputId": "5ce7847d-08b1-4783-b7c4-334615080d6d"
      },
      "outputs": [
        {
          "output_type": "stream",
          "name": "stdout",
          "text": [
            "Collecting pyvis\n",
            "  Downloading pyvis-0.3.2-py3-none-any.whl (756 kB)\n",
            "\u001b[2K     \u001b[90m━━━━━━━━━━━━━━━━━━━━━━━━━━━━━━━━━━━━━━━\u001b[0m \u001b[32m756.0/756.0 kB\u001b[0m \u001b[31m6.4 MB/s\u001b[0m eta \u001b[36m0:00:00\u001b[0m\n",
            "\u001b[?25hRequirement already satisfied: ipython>=5.3.0 in /usr/local/lib/python3.10/dist-packages (from pyvis) (7.34.0)\n",
            "Requirement already satisfied: jinja2>=2.9.6 in /usr/local/lib/python3.10/dist-packages (from pyvis) (3.1.2)\n",
            "Requirement already satisfied: jsonpickle>=1.4.1 in /usr/local/lib/python3.10/dist-packages (from pyvis) (3.0.2)\n",
            "Requirement already satisfied: networkx>=1.11 in /usr/local/lib/python3.10/dist-packages (from pyvis) (3.1)\n",
            "Requirement already satisfied: setuptools>=18.5 in /usr/local/lib/python3.10/dist-packages (from ipython>=5.3.0->pyvis) (67.7.2)\n",
            "Collecting jedi>=0.16 (from ipython>=5.3.0->pyvis)\n",
            "  Downloading jedi-0.19.0-py2.py3-none-any.whl (1.6 MB)\n",
            "\u001b[2K     \u001b[90m━━━━━━━━━━━━━━━━━━━━━━━━━━━━━━━━━━━━━━━━\u001b[0m \u001b[32m1.6/1.6 MB\u001b[0m \u001b[31m15.3 MB/s\u001b[0m eta \u001b[36m0:00:00\u001b[0m\n",
            "\u001b[?25hRequirement already satisfied: decorator in /usr/local/lib/python3.10/dist-packages (from ipython>=5.3.0->pyvis) (4.4.2)\n",
            "Requirement already satisfied: pickleshare in /usr/local/lib/python3.10/dist-packages (from ipython>=5.3.0->pyvis) (0.7.5)\n",
            "Requirement already satisfied: traitlets>=4.2 in /usr/local/lib/python3.10/dist-packages (from ipython>=5.3.0->pyvis) (5.7.1)\n",
            "Requirement already satisfied: prompt-toolkit!=3.0.0,!=3.0.1,<3.1.0,>=2.0.0 in /usr/local/lib/python3.10/dist-packages (from ipython>=5.3.0->pyvis) (3.0.39)\n",
            "Requirement already satisfied: pygments in /usr/local/lib/python3.10/dist-packages (from ipython>=5.3.0->pyvis) (2.16.1)\n",
            "Requirement already satisfied: backcall in /usr/local/lib/python3.10/dist-packages (from ipython>=5.3.0->pyvis) (0.2.0)\n",
            "Requirement already satisfied: matplotlib-inline in /usr/local/lib/python3.10/dist-packages (from ipython>=5.3.0->pyvis) (0.1.6)\n",
            "Requirement already satisfied: pexpect>4.3 in /usr/local/lib/python3.10/dist-packages (from ipython>=5.3.0->pyvis) (4.8.0)\n",
            "Requirement already satisfied: MarkupSafe>=2.0 in /usr/local/lib/python3.10/dist-packages (from jinja2>=2.9.6->pyvis) (2.1.3)\n",
            "Requirement already satisfied: parso<0.9.0,>=0.8.3 in /usr/local/lib/python3.10/dist-packages (from jedi>=0.16->ipython>=5.3.0->pyvis) (0.8.3)\n",
            "Requirement already satisfied: ptyprocess>=0.5 in /usr/local/lib/python3.10/dist-packages (from pexpect>4.3->ipython>=5.3.0->pyvis) (0.7.0)\n",
            "Requirement already satisfied: wcwidth in /usr/local/lib/python3.10/dist-packages (from prompt-toolkit!=3.0.0,!=3.0.1,<3.1.0,>=2.0.0->ipython>=5.3.0->pyvis) (0.2.6)\n",
            "Installing collected packages: jedi, pyvis\n",
            "Successfully installed jedi-0.19.0 pyvis-0.3.2\n"
          ]
        }
      ],
      "source": [
        "pip install pyvis"
      ]
    },
    {
      "cell_type": "code",
      "source": [
        "pip install networkx"
      ],
      "metadata": {
        "colab": {
          "base_uri": "https://localhost:8080/"
        },
        "id": "OnYm4ThZG5zN",
        "outputId": "83145bf9-c3e5-4b09-cc2e-a8acf95f20db"
      },
      "execution_count": null,
      "outputs": [
        {
          "output_type": "stream",
          "name": "stdout",
          "text": [
            "Requirement already satisfied: networkx in /usr/local/lib/python3.10/dist-packages (3.1)\n"
          ]
        }
      ]
    },
    {
      "cell_type": "code",
      "source": [
        "import pandas as pd\n",
        "import os\n",
        "import numpy as np\n",
        "import matplotlib.pyplot as plt\n",
        "import seaborn as sns\n",
        "import folium\n",
        "import json\n",
        "from folium.features import CustomIcon"
      ],
      "metadata": {
        "id": "FaYPcxjyHKSH"
      },
      "execution_count": null,
      "outputs": []
    },
    {
      "cell_type": "markdown",
      "source": [],
      "metadata": {
        "id": "Isz1E6rALZ8T"
      }
    },
    {
      "cell_type": "code",
      "source": [
        "import networkx as nx\n",
        "from pyvis.network import Network"
      ],
      "metadata": {
        "id": "Ts8vSS2yHB13"
      },
      "execution_count": null,
      "outputs": []
    },
    {
      "cell_type": "markdown",
      "source": [
        "# 최종 수정"
      ],
      "metadata": {
        "id": "WO992QIQPDLR"
      }
    },
    {
      "cell_type": "code",
      "source": [],
      "metadata": {
        "id": "kfT8t1MYO6wK"
      },
      "execution_count": null,
      "outputs": []
    },
    {
      "cell_type": "code",
      "source": [
        "# 1. 데이터 불러오기\n",
        "path = \"/content/\"\n",
        "case_df = pd.read_csv(path + 'Case.csv')\n",
        "patinfo_df = pd.read_csv(path + 'PatientInfo.csv')\n",
        "\n",
        "# 2. 집단 감염 케이스 추출\n",
        "infect_cases = case_df.loc[~case_df['infection_case'].isin(['etc', 'contact with patient', 'overseas inflow']), 'infection_case'].unique()\n",
        "\n",
        "# 3. 결측치 처리\n",
        "patinfo_df['infected_by'].fillna('nan', inplace=True)\n",
        "\n",
        "# 4. 감염 정보 리스트 생성\n",
        "pat_ids = patinfo_df['patient_id'].tolist()\n",
        "pat_cases = patinfo_df['infection_case'].tolist()\n",
        "whos_infected = patinfo_df['infected_by'].tolist()\n",
        "\n",
        "# 5. 감염된 환자 정보 추출\n",
        "who_indices = [i for i, infector in enumerate(whos_infected) if infector != 'nan' and infector in pat_ids]\n",
        "edges = [(int(whos_infected[i]), int(pat_ids[i])) for i in who_indices]\n",
        "\n",
        "# 6. 환자 ID와 감염 장소 리스트 생성\n",
        "patients_from_cases = [pat_ids[i] for i, case in enumerate(pat_cases) if case in infect_cases]\n",
        "unique_cases = list(infect_cases)\n",
        "\n",
        "patients_from_cases[:5], unique_cases[:5]  # Displaying some sample values for verification"
      ],
      "metadata": {
        "colab": {
          "base_uri": "https://localhost:8080/"
        },
        "id": "8_6D_hbPOnaT",
        "outputId": "89138dc1-db07-46a7-babf-0a5ecd795c90"
      },
      "execution_count": null,
      "outputs": [
        {
          "output_type": "execute_result",
          "data": {
            "text/plain": [
              "([1000000015, 1000000020, 1000000022, 1000000023, 1000000025],\n",
              " ['Itaewon Clubs',\n",
              "  'Richway',\n",
              "  'Guro-gu Call Center',\n",
              "  'Yangcheon Table Tennis Club',\n",
              "  'Day Care Center'])"
            ]
          },
          "metadata": {},
          "execution_count": 13
        }
      ]
    },
    {
      "cell_type": "code",
      "source": [
        "def get_date_optimized(pati_id):\n",
        "    # 환자 ID에 해당하는 확진 날짜 찾기\n",
        "    confirmed_date = patinfo_df.loc[patinfo_df['patient_id'] == pati_id, 'confirmed_date'].values[0]\n",
        "\n",
        "    # 날짜 문자열을 정수로 변환\n",
        "    date = int(confirmed_date.replace('-', ''))\n",
        "\n",
        "    return date\n",
        "\n",
        "# 함수 테스트\n",
        "sample_patient_id = pat_ids[0]\n",
        "get_date_optimized(sample_patient_id)"
      ],
      "metadata": {
        "colab": {
          "base_uri": "https://localhost:8080/"
        },
        "id": "0WJnnNGXO6tk",
        "outputId": "03185969-d755-40b5-80bf-ff69f0ec4ac1"
      },
      "execution_count": null,
      "outputs": [
        {
          "output_type": "execute_result",
          "data": {
            "text/plain": [
              "20200123"
            ]
          },
          "metadata": {},
          "execution_count": 14
        }
      ]
    },
    {
      "cell_type": "markdown",
      "source": [
        "# 최종 구성"
      ],
      "metadata": {
        "id": "NuIaBKNHQFkn"
      }
    },
    {
      "cell_type": "code",
      "source": [
        "# Replacing new_edges with edges\n",
        "new_edges = edges\n",
        "\n",
        "# Creating num_case (patient and its infection case)\n",
        "num_case = [(case, pat_id) for case, pat_id in zip(pat_cases, pat_ids) if case in infect_cases]\n",
        "\n",
        "# Optimizing the code\n",
        "\n",
        "# Extracting new nodes from new_edges\n",
        "new_nodes_1 = {i[0] for i in new_edges if i[0] not in patients_from_cases}\n",
        "new_nodes_2 = {i[1] for i in new_edges if i[1] not in patients_from_cases}\n",
        "\n",
        "# Updating the patient_list\n",
        "patient_list = list(set(patients_from_cases).union(new_nodes_1, new_nodes_2))\n",
        "\n",
        "# Combining all edges\n",
        "edge_list = num_case + new_edges\n",
        "\n",
        "# Graph creation\n",
        "G = nx.Graph()\n",
        "G.add_nodes_from(patient_list, bipartite=1)\n",
        "G.add_nodes_from(unique_cases, bipartite=0)\n",
        "G.add_edges_from(edge_list)\n",
        "\n",
        "# Sorting connected components by size\n",
        "components_covid = sorted(nx.connected_components(G), key=len, reverse=True)\n",
        "first = next(i for i, comp in enumerate(components_covid) if len(comp) == 5)\n",
        "trash = set().union(*components_covid[first:])\n",
        "\n",
        "# Removing trash nodes\n",
        "patient_list = list(set(patient_list) - trash)\n",
        "case_list = list(set(unique_cases) - trash)\n",
        "edge_list = [edge for edge in edge_list if edge[0] not in trash and edge[1] not in trash]\n",
        "\n",
        "# Extracting patient indices\n",
        "list_ind = [pat_ids.index(i) for i in patient_list]\n",
        "\n",
        "# Displaying some sample values for verification\n",
        "list_ind[:5], patient_list[:5], case_list[:5], edge_list[:5]"
      ],
      "metadata": {
        "colab": {
          "base_uri": "https://localhost:8080/"
        },
        "id": "5M_KYp3kPv1-",
        "outputId": "3b0cbb31-9d18-4bbc-8849-4ce6e7775439"
      },
      "execution_count": null,
      "outputs": [
        {
          "output_type": "execute_result",
          "data": {
            "text/plain": [
              "([4205, 2108, 2109, 2110, 2112],\n",
              " [6001000448, 1600000001, 1600000002, 1600000003, 1600000005],\n",
              " ['Geochang Church',\n",
              "  'Seongdong-gu APT',\n",
              "  'Wangsung Church',\n",
              "  'Yangcheon Table Tennis Club',\n",
              "  'gym facility in Cheonan'],\n",
              " [('Seongdong-gu APT', 1000000015),\n",
              "  ('Seongdong-gu APT', 1000000020),\n",
              "  (\"Eunpyeong St. Mary's Hospital\", 1000000022),\n",
              "  ('Shincheonji Church', 1000000023),\n",
              "  (\"Eunpyeong St. Mary's Hospital\", 1000000025)])"
            ]
          },
          "metadata": {},
          "execution_count": 15
        }
      ]
    },
    {
      "cell_type": "markdown",
      "source": [
        "# 최적화"
      ],
      "metadata": {
        "id": "nWVWM1WFQebJ"
      }
    },
    {
      "cell_type": "code",
      "source": [
        "# Constructing a dictionary for each case to its connected patients\n",
        "dict_51 = {i: list(set(G[i]) - set(case_list)) for i in case_list}\n",
        "\n",
        "# Updating the edges based on the earliest infected patient for each case\n",
        "for case, patients in dict_51.items():\n",
        "    # Getting the date of infection for each patient linked to the case\n",
        "    dates = [get_date_optimized(patient) for patient in patients]\n",
        "    # Identifying the earliest infected patients\n",
        "    earliest_date = min(dates)\n",
        "    first_infected = [patients[i] for i, date in enumerate(dates) if date == earliest_date]\n",
        "\n",
        "    # Updating the edge list\n",
        "    for infected in first_infected:\n",
        "        edge_list = [edge for edge in edge_list if edge != (case, infected)]\n",
        "        edge_list.append((infected, case))\n",
        "\n",
        "# Setting up the graph visualization\n",
        "g = Network(height=800, width=1600, directed=True, notebook=True)\n",
        "g.set_options(\"\"\"\n",
        "var options = {\n",
        "  \"nodes\": {\n",
        "    \"font\": {\n",
        "      \"size\": 100,\n",
        "      \"strokeColor\": \"rgba(165,215,255,1)\"}}}\n",
        "\"\"\")\n",
        "\n",
        "# Adding nodes for each case\n",
        "[g.add_node(case, title=case, color='gray', label=case, shape='star') for case in case_list]\n",
        "\n",
        "# Displaying some sample values for verification\n",
        "edge_list[:5], list(dict_51.items())[:2]"
      ],
      "metadata": {
        "colab": {
          "base_uri": "https://localhost:8080/"
        },
        "id": "lQEOaZTUQfix",
        "outputId": "51934d7f-84b4-45ec-c269-50ec809ea50e"
      },
      "execution_count": null,
      "outputs": [
        {
          "output_type": "stream",
          "name": "stdout",
          "text": [
            "Warning: When  cdn_resources is 'local' jupyter notebook has issues displaying graphics on chrome/safari. Use cdn_resources='in_line' or cdn_resources='remote' if you have issues viewing graphics in a notebook.\n"
          ]
        },
        {
          "output_type": "execute_result",
          "data": {
            "text/plain": [
              "([('Seongdong-gu APT', 1000000020),\n",
              "  ('Shincheonji Church', 1000000023),\n",
              "  (\"Eunpyeong St. Mary's Hospital\", 1000000025),\n",
              "  (\"Eunpyeong St. Mary's Hospital\", 1000000028),\n",
              "  (\"Eunpyeong St. Mary's Hospital\", 1000000029)],\n",
              " [('Geochang Church',\n",
              "   [6100000047, 6100000052, 6100000054, 6100000057, 6100000058, 6100000059]),\n",
              "  ('Seongdong-gu APT',\n",
              "   [1000000102,\n",
              "    1000000070,\n",
              "    1000000078,\n",
              "    1000000015,\n",
              "    1000000079,\n",
              "    1000000020,\n",
              "    1000000087,\n",
              "    1000000088,\n",
              "    1000000089,\n",
              "    1000000090,\n",
              "    1000000092,\n",
              "    1000000094,\n",
              "    1000000095])])"
            ]
          },
          "metadata": {},
          "execution_count": 16
        }
      ]
    },
    {
      "cell_type": "code",
      "source": [
        "# Defining mappings and functions for optimization\n",
        "\n",
        "# Color mapping based on age\n",
        "age_colors = {\n",
        "    '0s': 'purple',\n",
        "    '10s': 'indigo',\n",
        "    '20s': 'blue',\n",
        "    '30s': 'skyblue',\n",
        "    '40s': 'green',\n",
        "    '50s': 'lawngreen',\n",
        "    '60s': 'yellow',\n",
        "    '70s': 'orange',\n",
        "    '80s': 'red',\n",
        "    '90s': 'brown'\n",
        "}\n",
        "\n",
        "# Shape determination based on sex\n",
        "def get_shape(sex):\n",
        "    if sex == 'male':\n",
        "        return 'square'\n",
        "    elif sex == 'female':\n",
        "        return 'dot'\n",
        "    else:\n",
        "        return 'triangle'\n",
        "\n",
        "# Adding nodes to the graph based on the determined attributes\n",
        "for i in list_ind:\n",
        "    patient_row = patinfo_df.iloc[i]\n",
        "    id_pat = int(patient_row['patient_id'])\n",
        "    age = patient_row['age']\n",
        "    sex = patient_row['sex']\n",
        "\n",
        "    color = age_colors.get(age, 'black')\n",
        "    shape = get_shape(sex)\n",
        "\n",
        "    g.add_node(id_pat, label=[' '], shape=shape, color=color, size=12, title=str(id_pat))\n",
        "\n",
        "# Adding edges to the graph\n",
        "for edge in edge_list:\n",
        "    g.add_edge(source=edge[0], to=edge[1])\n"
      ],
      "metadata": {
        "id": "RUn6R6MAQ2sH"
      },
      "execution_count": null,
      "outputs": []
    },
    {
      "cell_type": "code",
      "source": [
        "g.show(\"network_final.html\")"
      ],
      "metadata": {
        "colab": {
          "base_uri": "https://localhost:8080/",
          "height": 859
        },
        "id": "1cJNb8eJJVEp",
        "outputId": "f01f5868-36cc-4ea6-9663-eb7b3c75aaac"
      },
      "execution_count": null,
      "outputs": [
        {
          "output_type": "stream",
          "name": "stdout",
          "text": [
            "network_final.html\n"
          ]
        },
        {
          "output_type": "execute_result",
          "data": {
            "text/plain": [
              "<IPython.lib.display.IFrame at 0x7f82d5c32e00>"
            ],
            "text/html": [
              "\n",
              "        <iframe\n",
              "            width=\"1600\"\n",
              "            height=\"800\"\n",
              "            src=\"network_final.html\"\n",
              "            frameborder=\"0\"\n",
              "            allowfullscreen\n",
              "            \n",
              "        ></iframe>\n",
              "        "
            ]
          },
          "metadata": {},
          "execution_count": 18
        }
      ]
    },
    {
      "cell_type": "markdown",
      "source": [
        "# 누가 가장 많은 영향을 주었을까?"
      ],
      "metadata": {
        "id": "v4mC6UA_DRBT"
      }
    },
    {
      "cell_type": "code",
      "source": [
        "# 1. Removing unnecessary infection cases\n",
        "filtered_cases = set(case_df['infection_case']) - {'etc', 'contact with patient', 'overseas inflow'}\n",
        "\n",
        "# 2. Replacing missing values\n",
        "patinfo_df.fillna('nan', inplace=True)\n",
        "\n",
        "# 3. Extracting patient information\n",
        "pat_ids = patinfo_df['patient_id'].tolist()\n",
        "pat_cases = patinfo_df['infection_case'].tolist()\n",
        "infected_by = patinfo_df['infected_by'].tolist()\n",
        "\n",
        "# Adjusting for cases where a patient is infected by multiple infectors\n",
        "\n",
        "# 4. Generating edges based on who infected whom\n",
        "infected_edges = []\n",
        "for infector_str, pat_id in zip(infected_by, pat_ids):\n",
        "    if infector_str != 'nan':\n",
        "        for single_infector in infector_str.split(','):\n",
        "            single_infector = single_infector.strip()\n",
        "            if int(single_infector) in pat_ids:\n",
        "                infected_edges.append((int(single_infector), int(pat_id)))\n",
        "\n",
        "# Displaying some sample values for verification\n",
        "infected_edges[:5]\n",
        "# 5. Generating edges based on infection cases\n",
        "case_edges = [(case, pat_id) for case, pat_id in zip(pat_cases, pat_ids) if case in filtered_cases]\n",
        "\n",
        "# 6. Consolidating all nodes and edges\n",
        "all_patient_nodes = list(set(pat_ids))\n",
        "all_case_nodes = list(filtered_cases)\n",
        "all_edges = infected_edges + case_edges\n",
        "\n",
        "# Displaying some sample values for verification\n",
        "all_patient_nodes[:5], all_case_nodes[:5], all_edges[:5]"
      ],
      "metadata": {
        "colab": {
          "base_uri": "https://localhost:8080/"
        },
        "id": "5wZliYMfKsFC",
        "outputId": "bbc03e30-d64c-4e2b-846a-6bd8e2984bf7"
      },
      "execution_count": null,
      "outputs": [
        {
          "output_type": "execute_result",
          "data": {
            "text/plain": [
              "([6001000448, 6001000449, 6001000450, 6001000451, 6001000452],\n",
              " ['Fatima Hospital',\n",
              "  'Yongin Brothers',\n",
              "  'Door-to-door sales in Daejeon',\n",
              "  'Daejeon door-to-door sales',\n",
              "  'gym facility in Cheonan'],\n",
              " [(1000000002, 1000000005),\n",
              "  (1000000003, 1000000006),\n",
              "  (1000000003, 1000000007),\n",
              "  (1000000003, 1000000010),\n",
              "  (1000000017, 1000000013)])"
            ]
          },
          "metadata": {},
          "execution_count": 19
        }
      ]
    },
    {
      "cell_type": "code",
      "source": [
        "# Creating a directed graph and adding nodes and edges directly\n",
        "G = nx.DiGraph()\n",
        "G.add_nodes_from(all_patient_nodes, bipartite=1)\n",
        "G.add_nodes_from(all_case_nodes, bipartite=0)\n",
        "G.add_edges_from(all_edges)\n",
        "\n",
        "# Checking the number of nodes and edges for verification\n",
        "G.number_of_nodes(), G.number_of_edges()"
      ],
      "metadata": {
        "colab": {
          "base_uri": "https://localhost:8080/"
        },
        "id": "Bp1UR5D4FNhA",
        "outputId": "a41a13a6-b738-41a3-d23d-96b1c23ed2ad"
      },
      "execution_count": null,
      "outputs": [
        {
          "output_type": "execute_result",
          "data": {
            "text/plain": [
              "(5242, 2433)"
            ]
          },
          "metadata": {},
          "execution_count": 20
        }
      ]
    },
    {
      "cell_type": "code",
      "source": [
        "# Filtering and sorting in one step\n",
        "top_5 = sorted([(node, deg) for node, deg in G.out_degree() if node in all_patient_nodes], key=lambda x: x[1], reverse=True)[:5]\n",
        "\n",
        "# Extracting node IDs and their counts\n",
        "top_5_nodes = [entry[0] for entry in top_5]\n",
        "top_5_count = [entry[1] for entry in top_5]\n",
        "\n",
        "top_5_nodes, top_5_count"
      ],
      "metadata": {
        "colab": {
          "base_uri": "https://localhost:8080/"
        },
        "id": "C0WZlhcEGFoO",
        "outputId": "6d504b9f-d6c5-4256-908e-b732a5c1a017"
      },
      "execution_count": null,
      "outputs": [
        {
          "output_type": "execute_result",
          "data": {
            "text/plain": [
              "([2000000205, 4100000008, 2000000167, 1400000209, 4100000006],\n",
              " [51, 27, 24, 24, 21])"
            ]
          },
          "metadata": {},
          "execution_count": 21
        }
      ]
    }
  ],
  "metadata": {
    "kernelspec": {
      "display_name": "Python 3",
      "language": "python",
      "name": "python3"
    },
    "language_info": {
      "codemirror_mode": {
        "name": "ipython",
        "version": 3
      },
      "file_extension": ".py",
      "mimetype": "text/x-python",
      "name": "python",
      "nbconvert_exporter": "python",
      "pygments_lexer": "ipython3",
      "version": "3.6.6"
    },
    "colab": {
      "provenance": [],
      "include_colab_link": true
    }
  },
  "nbformat": 4,
  "nbformat_minor": 0
}